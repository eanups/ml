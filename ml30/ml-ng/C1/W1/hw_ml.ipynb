{
 "cells": [
  {
   "cell_type": "code",
   "execution_count": 24,
   "id": "62e009ef-05fa-48fe-8c42-e883f746fd60",
   "metadata": {},
   "outputs": [],
   "source": [
    "import numpy as np\n",
    "import matplotlib.pyplot as plt\n"
   ]
  },
  {
   "cell_type": "code",
   "execution_count": 40,
   "id": "a702d854-7f50-4786-a333-e8f159b1c73b",
   "metadata": {},
   "outputs": [],
   "source": [
    "x_train = np.array([380, 450, 700])\n",
    "y_train = np.array([0.7, 0.8, 1.1])"
   ]
  },
  {
   "cell_type": "code",
   "execution_count": 41,
   "id": "659f15d2-e7c6-4a26-9601-09d35e9950d2",
   "metadata": {},
   "outputs": [
    {
     "data": {
      "text/plain": [
       "(array([380, 450, 700]), array([0.7, 0.8, 1.1]))"
      ]
     },
     "execution_count": 41,
     "metadata": {},
     "output_type": "execute_result"
    }
   ],
   "source": [
    "x_train, y_train"
   ]
  },
  {
   "cell_type": "code",
   "execution_count": 42,
   "id": "7e1e6dcc-2025-4a90-a84c-48bdc845a217",
   "metadata": {},
   "outputs": [],
   "source": [
    "m = x_train.shape[0]"
   ]
  },
  {
   "cell_type": "code",
   "execution_count": 46,
   "id": "bbd202ce-4ae9-42b6-b9b1-a79438534732",
   "metadata": {},
   "outputs": [],
   "source": [
    "w = .002\n",
    "b = -.05\n",
    "y_hat = np.zeros(3)"
   ]
  },
  {
   "cell_type": "code",
   "execution_count": 47,
   "id": "4a38eb73-eced-41c9-89e5-e12e56d6d521",
   "metadata": {},
   "outputs": [],
   "source": [
    "for i in range(m):\n",
    "    y_hat[i] = w * x_train[i] + b"
   ]
  },
  {
   "cell_type": "code",
   "execution_count": 48,
   "id": "44e20f92-d916-44c8-a2e7-d7f1bb8a9e38",
   "metadata": {},
   "outputs": [
    {
     "data": {
      "text/plain": [
       "array([0.71, 0.85, 1.35])"
      ]
     },
     "execution_count": 48,
     "metadata": {},
     "output_type": "execute_result"
    }
   ],
   "source": [
    "y_hat"
   ]
  },
  {
   "cell_type": "code",
   "execution_count": 54,
   "id": "f58744db-c019-4f69-9f99-78658577077a",
   "metadata": {},
   "outputs": [
    {
     "data": {
      "text/plain": [
       "[<matplotlib.lines.Line2D at 0x12d99bf70>]"
      ]
     },
     "execution_count": 54,
     "metadata": {},
     "output_type": "execute_result"
    },
    {
     "data": {
      "image/png": "[encoded data removed]",
      "text/plain": [
       "<Figure size 432x288 with 1 Axes>"
      ]
     },
     "metadata": {
      "needs_background": "light"
     },
     "output_type": "display_data"
    }
   ],
   "source": [
    "# Plot\n",
    "plt.title(\"House rate\")\n",
    "plt.xlabel(\"Size (square metres)\")\n",
    "plt.ylabel(\"Price (millions)\")\n",
    "\n",
    "# Data points\n",
    "plt.scatter(x_train, y_train)\n",
    "\n",
    "# Linear Model/Function \n",
    "plt.plot(x_train, y_hat)\n"
   ]
  },
  {
   "cell_type": "code",
   "execution_count": 64,
   "id": "44c5d5a1-2102-449a-a3c4-d647895ddaad",
   "metadata": {},
   "outputs": [],
   "source": [
    "# Compute cost\n",
    "\n",
    "def compute_cost(x: np.array, y:np.array, w: float, b: float): \n",
    "    m = x.shape[0]\n",
    "    \n",
    "    cost_sum = 0\n",
    "    for i in range(m):\n",
    "        y_hat =  w * x[i] + b\n",
    "        cost_sum += (y_hat - y) ** 2\n",
    "    \n",
    "    cost = 1/(2*m) * cost_sum\n",
    "        \n",
    "    print(f\"Cost: {cost}\")\n",
    "    return cost\n",
    "\n",
    "    "
   ]
  },
  {
   "cell_type": "code",
   "execution_count": 65,
   "id": "fde80f8a-55e9-4906-bf31-84d06f86de46",
   "metadata": {},
   "outputs": [
    {
     "name": "stdout",
     "output_type": "stream",
     "text": [
      "Cost: [ 2500. 32500.]\n"
     ]
    },
    {
     "data": {
      "text/plain": [
       "array([ 2500., 32500.])"
      ]
     },
     "execution_count": 65,
     "metadata": {},
     "output_type": "execute_result"
    }
   ],
   "source": [
    "x_train = np.array([1.0, 2.0])           #(size in 1000 square feet)\n",
    "y_train = np.array([300.0, 500.0])  \n",
    "compute_cost(x_train, y_train, w=100, b=100)"
   ]
  },
  {
   "cell_type": "code",
   "execution_count": null,
   "id": "4fac49c0-3ba7-4842-adee-0aa3e7724764",
   "metadata": {},
   "outputs": [],
   "source": []
  }
 ],
 "metadata": {
  "kernelspec": {
   "display_name": "Python 3 (ipykernel)",
   "language": "python",
   "name": "python3"
  },
  "language_info": {
   "codemirror_mode": {
    "name": "ipython",
    "version": 3
   },
   "file_extension": ".py",
   "mimetype": "text/x-python",
   "name": "python",
   "nbconvert_exporter": "python",
   "pygments_lexer": "ipython3",
   "version": "3.9.7"
  }
 },
 "nbformat": 4,
 "nbformat_minor": 5
}
