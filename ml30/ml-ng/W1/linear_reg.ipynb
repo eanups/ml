{
 "cells": [
  {
   "cell_type": "code",
   "execution_count": 155,
   "metadata": {},
   "outputs": [],
   "source": [
    "import pandas as pd\n",
    "import numpy as np"
   ]
  },
  {
   "cell_type": "code",
   "execution_count": 156,
   "metadata": {},
   "outputs": [],
   "source": [
    "# Read training and test data.\n",
    "\n",
    "x = np.array([10, 30, 55, 34, 32, 12])\n",
    "y = np.array([2.3, 5.2, 7.2, 5, 4, 1])\n"
   ]
  },
  {
   "cell_type": "code",
   "execution_count": 157,
   "metadata": {},
   "outputs": [],
   "source": [
    "w_init = 0\n",
    "b_init = 0\n",
    "m = x.shape[0] # no. of rows\n",
    "alpha = .001\n"
   ]
  },
  {
   "cell_type": "markdown",
   "metadata": {},
   "source": [
    "Need to make a deep copy of w_init, b_init incase we use multiple linear regression"
   ]
  },
  {
   "cell_type": "code",
   "execution_count": 158,
   "metadata": {},
   "outputs": [
    {
     "data": {
      "text/plain": [
       "array([0, 0, 0, 0, 0, 0])"
      ]
     },
     "execution_count": 158,
     "metadata": {},
     "output_type": "execute_result"
    }
   ],
   "source": [
    "w = w_init \n",
    "b = b_init\n",
    "w * x + b"
   ]
  },
  {
   "cell_type": "code",
   "execution_count": 159,
   "metadata": {},
   "outputs": [],
   "source": [
    "# Compute cost\n",
    "def compute_cost(w, b):\n",
    "    return 1/(2 * (m-1)) * sum(((w * X + b) - y) ** 2)\n"
   ]
  },
  {
   "cell_type": "code",
   "execution_count": 160,
   "metadata": {},
   "outputs": [
    {
     "name": "stdout",
     "output_type": "stream",
     "text": [
      "w : 0.177 b: 0.004940000000000001 , Cost: 1.1846466901599992 \n",
      "w : 0.13780508952580847 b: 0.058320119115981894 , Cost: 0.2744171965707713 \n",
      "w : 0.13650110167210028 b: 0.10616603334167493 , Cost: 0.26982961706436787 \n",
      "w : 0.13535438460562157 b: 0.14824136881957353 , Cost: 0.2662818992880614 \n",
      "w : 0.13434597028119816 b: 0.1852421009453496 , Cost: 0.2635383388979355 \n",
      "w : 0.13345917834321386 b: 0.2177802652236249 , Cost: 0.26141665840109946 \n",
      "w : 0.1326793402129655 b: 0.2463940810530286 , Cost: 0.25977589694862524 \n",
      "w : 0.1319935564531678 b: 0.2715568545062833 , Cost: 0.25850704513613953 \n",
      "w : 0.1313904833961315 b: 0.29368480736775276 , Cost: 0.25752580260413105 \n",
      "w : 0.13086014550619612 b: 0.3131439619299091 , Cost: 0.2567669772652314 \n",
      "w : 0.13039377037267033 b: 0.3302561954313302 , Cost: 0.2561801540526489 \n",
      "w : 0.12998364360387069 b: 0.34530456428372835 , Cost: 0.2557263454287498 \n",
      "w : 0.1296229812220357 b: 0.3585379861569758 , Cost: 0.25537540111927226 \n",
      "w : 0.12930581744837713 b: 0.3701753573693005 , Cost: 0.25510400498030866 \n",
      "w : 0.1290269060221021 b: 0.38040917368911664 , Cost: 0.25489412591330196 \n",
      "w : 0.12878163342110663 b: 0.3894087144407956 , Cost: 0.25473181990948124 \n",
      "w : 0.12856594254890927 b: 0.3973228425832264 , Cost: 0.25460630363359926 \n",
      "w : 0.12837626562551688 b: 0.40428246707774707 , Cost: 0.25450923799745273 \n",
      "w : 0.12820946517215936 b: 0.41040270827589553 , Cost: 0.254434174125024 \n",
      "w : 0.128062782113711 b: 0.4157848021450409 , Cost: 0.2543761249001108 \n"
     ]
    }
   ],
   "source": [
    "# Until convergence\n",
    "\n",
    "# temp_w = w - ( 1/float(m-1) * alpha * sum([((w * X[i] + b) - y[i]) * X[i] for i in range(m)]))\n",
    "# temp_b = b - ( 1/float(m-1) * alpha * sum([((w * X[i] + b) - y[i]) for i in range(m)]))\n",
    "# w = temp_w\n",
    "# b = temp_b\n",
    "# print(f\"w : {w} b: {b} after an iteration..\")\n",
    "for i in range(10000):\n",
    "    dj_dw = ( 1/(m-1) * sum(((w * x + b) - y) * x))\n",
    "    t_w = w - ( alpha * dj_dw )\n",
    "    dj_db = ( 1/(m-1) * sum((w * x + b) - y))\n",
    "    t_b = b - ( alpha * dj_db )\n",
    "    w = t_w\n",
    "    b = t_b\n",
    "    if i % 500 == 0:\n",
    "        print(f\"w : {w} b: {b} , Cost: {compute_cost(w, b)} \")\n"
   ]
  },
  {
   "cell_type": "code",
   "execution_count": 161,
   "metadata": {},
   "outputs": [
    {
     "data": {
      "text/plain": [
       "(0, 0.12793403193183345)"
      ]
     },
     "execution_count": 161,
     "metadata": {},
     "output_type": "execute_result"
    }
   ],
   "source": [
    "w_init, w"
   ]
  },
  {
   "cell_type": "code",
   "execution_count": null,
   "metadata": {},
   "outputs": [],
   "source": []
  },
  {
   "cell_type": "code",
   "execution_count": null,
   "metadata": {},
   "outputs": [],
   "source": []
  }
 ],
 "metadata": {
  "kernelspec": {
   "display_name": "Python 3.9.7 ('ml30-53bcsspk-py3.9')",
   "language": "python",
   "name": "python3"
  },
  "language_info": {
   "codemirror_mode": {
    "name": "ipython",
    "version": 3
   },
   "file_extension": ".py",
   "mimetype": "text/x-python",
   "name": "python",
   "nbconvert_exporter": "python",
   "pygments_lexer": "ipython3",
   "version": "3.9.7"
  },
  "orig_nbformat": 4,
  "vscode": {
   "interpreter": {
    "hash": "ab3d2cf69f5e2789a65e00ad680a6e6e2d73500e7ace5a27ebd258d183438071"
   }
  }
 },
 "nbformat": 4,
 "nbformat_minor": 2
}
