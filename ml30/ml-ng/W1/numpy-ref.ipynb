{
 "cells": [
  {
   "cell_type": "code",
   "execution_count": 1,
   "metadata": {},
   "outputs": [],
   "source": [
    "import numpy as np"
   ]
  },
  {
   "cell_type": "code",
   "execution_count": 49,
   "metadata": {},
   "outputs": [
    {
     "name": "stdout",
     "output_type": "stream",
     "text": [
      "a: [0. 0. 0. 0.]\n",
      "a.shape: (4,)\n",
      "av: \n",
      "[[0. 0.]\n",
      " [0. 0.]\n",
      " [0. 0.]\n",
      " [0. 0.]] , \n",
      "av.shape: (4, 2)\n",
      "\n",
      "o: [1. 1. 1. 1. 1.]\n",
      "r: \n",
      "[[0.18928798 0.76406715 0.41735531]\n",
      " [0.60978975 0.69207517 0.44627046]\n",
      " [0.37007269 0.62363404 0.89629129]\n",
      " [0.48702337 0.82931307 0.47745877]], \n",
      "r.dtype: float64\n"
     ]
    }
   ],
   "source": [
    "# Vector creation (Shape as input)\n",
    "\n",
    "a = np.zeros(4);  av = np.zeros((4,2))\n",
    "print(f\"a: {a}\\na.shape: {a.shape}\\nav: \\n{av} , \\nav.shape: {av.shape}\\n\")\n",
    "\n",
    "o = np.ones(5)\n",
    "r = np.random.random_sample((4,3))\n",
    "print(f\"o: {o}\\nr: \\n{r}, \\nr.dtype: {r.dtype}\")"
   ]
  },
  {
   "cell_type": "code",
   "execution_count": 51,
   "metadata": {},
   "outputs": [
    {
     "name": "stdout",
     "output_type": "stream",
     "text": [
      "a: [4. 5. 6. 7. 8. 9.], a.shape: (6,), a.dtype: float64\n",
      "\n",
      "r: [0.59979764 0.21829123 0.88326228], r.shape: (3,)\n"
     ]
    }
   ],
   "source": [
    "# Shape NOT as input\n",
    "a = np.arange(4.0, 10.0)\n",
    "print(f\"a: {a}, a.shape: {a.shape}, a.dtype: {a.dtype}\\n\")\n",
    "\n",
    "r = np.random.rand(3)\n",
    "print(f\"r: {r}, r.shape: {r.shape}\")"
   ]
  },
  {
   "cell_type": "code",
   "execution_count": 59,
   "metadata": {},
   "outputs": [
    {
     "name": "stdout",
     "output_type": "stream",
     "text": [
      "a: [0.1 0.2 0.5], a.shape: (3,), a.dtype: float64\n",
      "\n",
      "a: \n",
      "[[3 4]\n",
      " [5 2]\n",
      " [2 2]], a.shape: (3, 2), a.dtype: int64\n",
      "\n"
     ]
    }
   ],
   "source": [
    "# Initialize values\n",
    "a = np.array([.1, .2, .5])\n",
    "print(f\"a: {a}, a.shape: {a.shape}, a.dtype: {a.dtype}\\n\")\n",
    "\n",
    "a = np.array([[3,4], [5,2], [2,2]])\n",
    "print(f\"a: \\n{a}, a.shape: {a.shape}, a.dtype: {a.dtype}\\n\")\n",
    "\n"
   ]
  },
  {
   "cell_type": "code",
   "execution_count": 63,
   "metadata": {},
   "outputs": [
    {
     "data": {
      "text/plain": [
       "(0, 9)"
      ]
     },
     "execution_count": 63,
     "metadata": {},
     "output_type": "execute_result"
    }
   ],
   "source": [
    "# Operations on Vectors\n",
    "a = np.arange(10)\n",
    "a[0] , a[-1]"
   ]
  },
  {
   "cell_type": "code",
   "execution_count": 75,
   "metadata": {},
   "outputs": [
    {
     "name": "stdout",
     "output_type": "stream",
     "text": [
      "a = [0 1 2 3 4 5 6 7 8 9]\n",
      "m = [2 3 4]\n",
      "m = [2 4]\n",
      "m = [2 3 4 5 6 7 8 9]\n",
      "m = [2 5 8]\n",
      "m = [0 3]\n"
     ]
    }
   ],
   "source": [
    "# Slicing\n",
    "\n",
    "a = np.arange(10)\n",
    "print(f\"a = {a}\")\n",
    "\n",
    "# [start:stop:step]\n",
    "m = a[2:5:1]; print(f\"m = {m}\")\n",
    "m = a[2:5:2]; print(f\"m = {m}\")\n",
    "m = a[2:]; print(f\"m = {m}\")\n",
    "m = a[2::3]; print(f\"m = {m}\")\n",
    "m = a[:5:3]; print(f\"m = {m}\")\n",
    "\n"
   ]
  },
  {
   "cell_type": "code",
   "execution_count": 82,
   "metadata": {},
   "outputs": [
    {
     "name": "stdout",
     "output_type": "stream",
     "text": [
      "o = [-1 -2 -5]\n",
      "o = [  1   8 125]\n",
      "o = 8\n",
      "o = 2.6666666666666665\n"
     ]
    }
   ],
   "source": [
    "# Single vector operations\n",
    "\n",
    "a = np.array([1, 2, 5])\n",
    "\n",
    "o = -a; print(f\"o = {o}\")\n",
    "o = a ** 3; print(f\"o = {o}\")\n",
    "o = np.sum(a); print(f\"o = {o}\")\n",
    "o = np.mean(a); print(f\"o = {o}\")\n"
   ]
  },
  {
   "cell_type": "markdown",
   "metadata": {},
   "source": [
    "Element Wise Op: $$ \\mathbf{a} + \\mathbf{b} = \\sum_{i=0}^{n-1} a_i + b_i $$"
   ]
  },
  {
   "cell_type": "code",
   "execution_count": 95,
   "metadata": {},
   "outputs": [
    {
     "data": {
      "text/plain": [
       "array([ 4,  8, 20])"
      ]
     },
     "execution_count": 95,
     "metadata": {},
     "output_type": "execute_result"
    }
   ],
   "source": [
    "b = np.power(a, 3)\n",
    "a, b, a + b\n"
   ]
  },
  {
   "cell_type": "code",
   "execution_count": 96,
   "metadata": {},
   "outputs": [
    {
     "data": {
      "text/plain": [
       "array([ 4,  8, 20])"
      ]
     },
     "execution_count": 96,
     "metadata": {},
     "output_type": "execute_result"
    }
   ],
   "source": [
    "a * 4 "
   ]
  },
  {
   "cell_type": "markdown",
   "metadata": {},
   "source": [
    "Dot Product : $$ x = \\sum_{i=0}^{n-1} a_i b_i $$\n"
   ]
  },
  {
   "cell_type": "code",
   "execution_count": 100,
   "metadata": {},
   "outputs": [
    {
     "data": {
      "text/plain": [
       "(642, 642)"
      ]
     },
     "execution_count": 100,
     "metadata": {},
     "output_type": "execute_result"
    }
   ],
   "source": [
    "sum(a * b), np.dot(a,b)"
   ]
  },
  {
   "cell_type": "code",
   "execution_count": null,
   "metadata": {},
   "outputs": [],
   "source": []
  },
  {
   "cell_type": "markdown",
   "metadata": {},
   "source": [
    "Matrices"
   ]
  },
  {
   "cell_type": "code",
   "execution_count": 103,
   "metadata": {},
   "outputs": [
    {
     "name": "stdout",
     "output_type": "stream",
     "text": [
      "a: \n",
      "[[0. 0.]\n",
      " [0. 0.]\n",
      " [0. 0.]]\n",
      "r: \n",
      "[[0.50781667 0.71665664 0.45240073]\n",
      " [0.43367065 0.76521555 0.21024209]]\n"
     ]
    }
   ],
   "source": [
    "# Creation\n",
    "\n",
    "a = np.zeros((3, 2))\n",
    "print(f\"a: \\n{a}\")\n",
    "\n",
    "r = np.random.random_sample((2, 3))\n",
    "print(f\"r: \\n{r}\")\n"
   ]
  },
  {
   "cell_type": "code",
   "execution_count": 110,
   "metadata": {},
   "outputs": [
    {
     "data": {
      "text/plain": [
       "(array([[0, 1, 2],\n",
       "        [3, 4, 5]]),\n",
       " (2, 3))"
      ]
     },
     "execution_count": 110,
     "metadata": {},
     "output_type": "execute_result"
    }
   ],
   "source": [
    "# Vector indexing on matrices\n",
    "\n",
    "a = np.arange(6).reshape(2, 3)\n",
    "a, a.shape"
   ]
  },
  {
   "cell_type": "code",
   "execution_count": 114,
   "metadata": {},
   "outputs": [
    {
     "data": {
      "text/plain": [
       "(array([[0, 1],\n",
       "        [2, 3],\n",
       "        [4, 5]]),\n",
       " (3, 2))"
      ]
     },
     "execution_count": 114,
     "metadata": {},
     "output_type": "execute_result"
    }
   ],
   "source": [
    "# In a similar manner, The -1 argument tells the routine to compute the number of rows \n",
    "# given the size of the array and the number of columns.\n",
    "a = np.arange(6).reshape(-1, 2)\n",
    "a, a.shape"
   ]
  },
  {
   "cell_type": "code",
   "execution_count": 115,
   "metadata": {},
   "outputs": [
    {
     "data": {
      "text/plain": [
       "(array([[ 0,  1,  2,  3],\n",
       "        [ 4,  5,  6,  7],\n",
       "        [ 8,  9, 10, 11],\n",
       "        [12, 13, 14, 15],\n",
       "        [16, 17, 18, 19]]),\n",
       " (5, 4))"
      ]
     },
     "execution_count": 115,
     "metadata": {},
     "output_type": "execute_result"
    }
   ],
   "source": [
    "a = np.arange(20).reshape(-1,4)\n",
    "a, a.shape"
   ]
  },
  {
   "cell_type": "code",
   "execution_count": 116,
   "metadata": {},
   "outputs": [
    {
     "data": {
      "text/plain": [
       "array([ 2,  6, 10, 14, 18])"
      ]
     },
     "execution_count": 116,
     "metadata": {},
     "output_type": "execute_result"
    }
   ],
   "source": [
    "a[:, 2]"
   ]
  },
  {
   "cell_type": "code",
   "execution_count": 118,
   "metadata": {},
   "outputs": [
    {
     "data": {
      "text/plain": [
       "array([ 8, 10])"
      ]
     },
     "execution_count": 118,
     "metadata": {},
     "output_type": "execute_result"
    }
   ],
   "source": [
    "a[2, ::2]"
   ]
  },
  {
   "cell_type": "code",
   "execution_count": 121,
   "metadata": {},
   "outputs": [
    {
     "data": {
      "text/plain": [
       "array([[ 1,  3],\n",
       "       [ 5,  7],\n",
       "       [ 9, 11],\n",
       "       [13, 15],\n",
       "       [17, 19]])"
      ]
     },
     "execution_count": 121,
     "metadata": {},
     "output_type": "execute_result"
    }
   ],
   "source": [
    "a[:, 1:5:2]"
   ]
  },
  {
   "cell_type": "code",
   "execution_count": null,
   "metadata": {},
   "outputs": [],
   "source": []
  }
 ],
 "metadata": {
  "kernelspec": {
   "display_name": "Python 3.9.7 ('ml30-53bcsspk-py3.9')",
   "language": "python",
   "name": "python3"
  },
  "language_info": {
   "codemirror_mode": {
    "name": "ipython",
    "version": 3
   },
   "file_extension": ".py",
   "mimetype": "text/x-python",
   "name": "python",
   "nbconvert_exporter": "python",
   "pygments_lexer": "ipython3",
   "version": "3.9.7"
  },
  "orig_nbformat": 4,
  "vscode": {
   "interpreter": {
    "hash": "ab3d2cf69f5e2789a65e00ad680a6e6e2d73500e7ace5a27ebd258d183438071"
   }
  }
 },
 "nbformat": 4,
 "nbformat_minor": 2
}
